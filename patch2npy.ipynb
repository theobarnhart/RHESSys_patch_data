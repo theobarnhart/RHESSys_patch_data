{
 "metadata": {
  "name": "",
  "signature": "sha256:8b0d9b87e27905936ef1d06b647f08073381235aa39d3022f4246bd6f1e1e71e"
 },
 "nbformat": 3,
 "nbformat_minor": 0,
 "worksheets": [
  {
   "cells": [
    {
     "cell_type": "code",
     "collapsed": false,
     "input": [
      "import numpy as np\n",
      "import pandas as pd"
     ],
     "language": "python",
     "metadata": {},
     "outputs": [],
     "prompt_number": 1
    },
    {
     "cell_type": "code",
     "collapsed": false,
     "input": [
      "# load some patch data\n",
      "\n",
      "def dtparse(x,y,z):\n",
      "    #if len(str(z)) == 3:\n",
      "    #    z = '0'+z # add a leading zero\n",
      "    #    h = int(z[0:2]) # pull out hour\n",
      "    #    m = int(z[2:4]) # pull out minutes\n",
      "    #else:\n",
      "    #    h = int(z[0:2]) # pull out hour\n",
      "    #    m = int(z[2:4]) # pull out minutes\n",
      "    #if h == 24:\n",
      "    #    y = int(y) + 1\n",
      "    #    h = 0\n",
      "    \n",
      "    return pd.datetime.strptime(str(x)+' '+str(y)+' '+str(z),'%d %m %Y')\n",
      "\n",
      "#dtparse = lambda x: pd.datetime.strptime(x,'%Y %j %h%m')\n",
      "\n",
      "path = '/RHESSys/Comocreek/barnhatb/out/grid_test_patch.daily'\n",
      "dat = pd.read_table(path, sep=' ',date_parser=dtparse, parse_dates={'date':[0,1,2]},index_col='date')"
     ],
     "language": "python",
     "metadata": {},
     "outputs": [],
     "prompt_number": 9
    },
    {
     "cell_type": "code",
     "collapsed": false,
     "input": [
      "num_patch = np.unique(dat.patchID) # get the number of patches"
     ],
     "language": "python",
     "metadata": {},
     "outputs": [
      {
       "metadata": {},
       "output_type": "pyout",
       "prompt_number": 11,
       "text": [
        "array([14, 19, 20, 21, 24, 25])"
       ]
      }
     ],
     "prompt_number": 11
    },
    {
     "cell_type": "code",
     "collapsed": false,
     "input": [
      "cols = dat.columns # get the columns from the data frame\n",
      "series = cols[4:] # subset out only the ones needed"
     ],
     "language": "python",
     "metadata": {},
     "outputs": [],
     "prompt_number": 22
    },
    {
     "cell_type": "code",
     "collapsed": false,
     "input": [
      "cols"
     ],
     "language": "python",
     "metadata": {},
     "outputs": [
      {
       "metadata": {},
       "output_type": "pyout",
       "prompt_number": 13,
       "text": [
        "Index([u'basinID', u'hillID', u'zoneID', u'patchID', u'rain_thr', u'detention_store', u'sat_def_z', u'Unnamed: 10', u'sat_def', u'rz_storage', u'potential_rz_store', u'rz_field_capacity', u'rz_wilting_point', u'unsat_stor', u'rz_drainage', u'unsat_drain', u'sublimation', u'return', u'evap', u'evap_surface', u'soil_evap', u'snow', u'snow_melt', u'trans_sat', u'trans_unsat', u'Qin', u'Qout', u'psn', u'root_zone.S', u'root.depth', u'litter.rain_stor', u'litter.S', u'area', u'pet', u'lai', u'baseflow', u'streamflow', u'pcp', u'recharge'], dtype='object')"
       ]
      }
     ],
     "prompt_number": 13
    },
    {
     "cell_type": "code",
     "collapsed": false,
     "input": [
      "cols[4:]"
     ],
     "language": "python",
     "metadata": {},
     "outputs": [
      {
       "metadata": {},
       "output_type": "pyout",
       "prompt_number": 21,
       "text": [
        "Index([u'rain_thr', u'detention_store', u'sat_def_z', u'Unnamed: 10', u'sat_def', u'rz_storage', u'potential_rz_store', u'rz_field_capacity', u'rz_wilting_point', u'unsat_stor', u'rz_drainage', u'unsat_drain', u'sublimation', u'return', u'evap', u'evap_surface', u'soil_evap', u'snow', u'snow_melt', u'trans_sat', u'trans_unsat', u'Qin', u'Qout', u'psn', u'root_zone.S', u'root.depth', u'litter.rain_stor', u'litter.S', u'area', u'pet', u'lai', u'baseflow', u'streamflow', u'pcp', u'recharge'], dtype='object')"
       ]
      }
     ],
     "prompt_number": 21
    },
    {
     "cell_type": "code",
     "collapsed": false,
     "input": [
      "cols[-1]"
     ],
     "language": "python",
     "metadata": {},
     "outputs": [
      {
       "metadata": {},
       "output_type": "pyout",
       "prompt_number": 19,
       "text": [
        "'recharge'"
       ]
      }
     ],
     "prompt_number": 19
    },
    {
     "cell_type": "code",
     "collapsed": false,
     "input": [],
     "language": "python",
     "metadata": {},
     "outputs": []
    }
   ],
   "metadata": {}
  }
 ]
}